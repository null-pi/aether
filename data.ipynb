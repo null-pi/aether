{
 "cells": [
  {
   "cell_type": "markdown",
   "id": "9995389b",
   "metadata": {},
   "source": [
    "## Importing Packages"
   ]
  },
  {
   "cell_type": "code",
   "execution_count": 16,
   "id": "629e31dd",
   "metadata": {},
   "outputs": [],
   "source": [
    "import pandas as pd\n",
    "import numpy as np\n",
    "import os\n",
    "import torch\n",
    "import torch.nn as nn\n",
    "import torch.optim as optim\n",
    "from torch.utils.data import DataLoader, TensorDataset\n",
    "import time\n",
    "import warnings"
   ]
  },
  {
   "cell_type": "markdown",
   "id": "d986093e",
   "metadata": {},
   "source": [
    "## Data Preprocessing"
   ]
  },
  {
   "cell_type": "code",
   "execution_count": 17,
   "id": "686805a1",
   "metadata": {},
   "outputs": [
    {
     "data": {
      "text/plain": [
       "['A.csv', 'AA.csv', 'AACB.csv', 'AACBR.csv', 'AACBU.csv']"
      ]
     },
     "execution_count": 17,
     "metadata": {},
     "output_type": "execute_result"
    }
   ],
   "source": [
    "files = os.listdir(path='Data/Stocks/')\n",
    "\n",
    "files.sort()\n",
    "\n",
    "files[:5]"
   ]
  },
  {
   "cell_type": "code",
   "execution_count": 18,
   "id": "3cba412b",
   "metadata": {},
   "outputs": [
    {
     "data": {
      "text/plain": [
       "(1001, 4812)"
      ]
     },
     "execution_count": 18,
     "metadata": {},
     "output_type": "execute_result"
    }
   ],
   "source": [
    "stocks_data, minimum_length = [], float('inf')\n",
    "\n",
    "for file in files:\n",
    "    if file in ['GIGM.csv', 'LENZ.csv', 'SAFE.csv', 'VATE.csv', 'VHI.csv']:\n",
    "        continue\n",
    "\n",
    "    df = pd.read_csv('Data/Stocks/' + file)\n",
    "    df = df[['Open', 'High', 'Low', 'Close', 'Volume']]\n",
    "\n",
    "    if len(df) > 1000:\n",
    "        negative_mask = df < -0\n",
    "        if negative_mask.any().any():\n",
    "            print(f\"Negative values found in {file}.\")\n",
    "            print(f\"Negative values found in rows: {df[negative_mask.any(axis=1)]}\")\n",
    "\n",
    "        with warnings.catch_warnings(record=True) as caught_warnings:\n",
    "            warnings.simplefilter(\"always\")\n",
    "            df = np.log(df[['Open', 'High', 'Low', 'Close', 'Volume']] + 1)\n",
    "\n",
    "            if caught_warnings:\n",
    "                print(f\"Warnings in {file}:\")\n",
    "\n",
    "        if len(df) < minimum_length:\n",
    "            minimum_length = len(df)\n",
    "        \n",
    "        stocks_data.append(df.to_numpy(dtype=np.float32))\n",
    "\n",
    "minimum_length, len(stocks_data)"
   ]
  },
  {
   "cell_type": "code",
   "execution_count": null,
   "id": "c3420300",
   "metadata": {},
   "outputs": [],
   "source": []
  }
 ],
 "metadata": {
  "kernelspec": {
   "display_name": ".venv",
   "language": "python",
   "name": "python3"
  },
  "language_info": {
   "codemirror_mode": {
    "name": "ipython",
    "version": 3
   },
   "file_extension": ".py",
   "mimetype": "text/x-python",
   "name": "python",
   "nbconvert_exporter": "python",
   "pygments_lexer": "ipython3",
   "version": "3.12.3"
  }
 },
 "nbformat": 4,
 "nbformat_minor": 5
}
